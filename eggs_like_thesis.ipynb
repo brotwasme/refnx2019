{
 "cells": [
  {
   "cell_type": "code",
   "execution_count": 1,
   "metadata": {},
   "outputs": [
    {
     "name": "stdout",
     "output_type": "stream",
     "text": [
      "csv\n",
      "cvs-collecting\n",
      "[[1.23000e-02 1.29150e-02 1.35608e-02 1.42388e-02 1.49507e-02 1.56983e-02\n",
      "  1.64832e-02 1.73073e-02 1.81727e-02 1.90813e-02 2.00354e-02 2.10372e-02\n",
      "  2.20890e-02 2.31935e-02 2.43532e-02 2.55708e-02 2.68494e-02 2.81918e-02\n",
      "  2.96014e-02 3.10815e-02 3.26356e-02 3.42673e-02 3.59807e-02 3.77797e-02\n",
      "  3.96687e-02 4.16522e-02 4.37348e-02 4.59215e-02 4.82176e-02 5.06285e-02\n",
      "  5.31599e-02 5.58179e-02 5.86088e-02 6.15392e-02 6.46162e-02 6.78470e-02\n",
      "  7.12393e-02 7.48013e-02 7.85414e-02 8.24684e-02 8.65919e-02 9.09215e-02\n",
      "  9.54675e-02 1.00241e-01 1.05253e-01 1.10516e-01 1.16041e-01 1.21843e-01\n",
      "  1.27936e-01 1.34332e-01 1.41049e-01 1.48102e-01 1.55506e-01 1.63282e-01\n",
      "  1.71446e-01 1.80018e-01 1.89019e-01 1.98470e-01 2.08394e-01 2.18813e-01\n",
      "  2.29754e-01 2.41242e-01 2.53304e-01 2.65969e-01 2.79267e-01 2.93231e-01\n",
      "  3.07892e-01 3.22701e-01]\n",
      " [7.00464e-01 6.93040e-01 6.98883e-01 6.88379e-01 6.88869e-01 6.83959e-01\n",
      "  6.83939e-01 6.53598e-01 4.32526e-01 1.90229e-01 1.04531e-01 6.59876e-02\n",
      "  4.55552e-02 3.25269e-02 2.36848e-02 1.68961e-02 1.30155e-02 9.74578e-03\n",
      "  7.39156e-03 5.69800e-03 4.45719e-03 3.38417e-03 2.59253e-03 1.99428e-03\n",
      "  1.56344e-03 1.20762e-03 9.23674e-04 7.07021e-04 5.46369e-04 4.14352e-04\n",
      "  3.11334e-04 2.38024e-04 1.80441e-04 1.35459e-04 9.60806e-05 6.88233e-05\n",
      "  5.43332e-05 3.89379e-05 2.91783e-05 2.42811e-05 1.97671e-05 1.49391e-05\n",
      "  1.20114e-05 1.03918e-05 9.87193e-06 8.40838e-06 8.11871e-06 7.66840e-06\n",
      "  7.05755e-06 6.85227e-06 6.56430e-06 6.29440e-06 5.97845e-06 5.99468e-06\n",
      "  5.82046e-06 5.34540e-06 4.93698e-06 5.09400e-06 4.75774e-06 4.50476e-06\n",
      "  4.14882e-06 4.21612e-06 3.96069e-06 4.18634e-06 4.06264e-06 3.82405e-06\n",
      "  3.87682e-06 3.89063e-06]\n",
      " [5.37993e-03 4.58771e-03 4.03069e-03 3.47765e-03 2.99459e-03 2.64457e-03\n",
      "  2.38162e-03 2.96708e-03 3.39465e-03 1.43443e-03 7.67167e-04 4.77634e-04\n",
      "  3.27722e-04 2.37793e-04 1.73557e-04 1.25897e-04 9.90848e-05 7.57369e-05\n",
      "  5.96260e-05 4.74239e-05 3.87631e-05 3.12039e-05 2.35640e-05 1.96261e-05\n",
      "  1.66444e-05 1.41813e-05 1.19133e-05 9.86291e-06 8.25315e-06 6.89199e-06\n",
      "  5.69837e-06 4.72674e-06 3.92691e-06 3.28084e-06 2.65285e-06 2.42830e-06\n",
      "  2.14971e-06 1.68856e-06 1.33160e-06 1.11439e-06 9.26877e-07 7.41974e-07\n",
      "  6.15398e-07 5.35053e-07 4.96546e-07 4.42676e-07 4.27673e-07 4.09862e-07\n",
      "  3.81955e-07 3.62749e-07 3.43169e-07 3.26914e-07 3.10409e-07 3.04610e-07\n",
      "  2.98544e-07 2.85365e-07 2.74828e-07 2.88051e-07 2.93470e-07 3.08815e-07\n",
      "  3.22991e-07 3.53690e-07 3.63667e-07 3.99830e-07 4.16314e-07 4.26128e-07\n",
      "  4.51444e-07 4.83208e-07]]\n",
      "<None>, 68 points\n"
     ]
    }
   ],
   "source": [
    "from refnx.dataset import Data1D\n",
    "from refnx.dataset import ReflectDataset\n",
    "import refnx\n",
    "import data_in\n",
    "data = data_in.data_in('d2o/29553_54.dat')\n",
    "print(data)\n",
    "# dataset = data # ...\n",
    "data = Data1D(data) \n",
    "print(data)"
   ]
  },
  {
   "cell_type": "code",
   "execution_count": 2,
   "metadata": {},
   "outputs": [
    {
     "name": "stdout",
     "output_type": "stream",
     "text": [
      "ReflectModel(<make_egg.bsla_thesis object at 0x000002A006B041D0>, name='', scale=Parameter(value=1.0, name='scale', vary=False, bounds=Interval(lb=-np.inf, ub=np.inf), constraint=None), bkg=Parameter(value=1e-07, name='bkg', vary=False, bounds=Interval(lb=-np.inf, ub=np.inf), constraint=None), dq=Parameter(value=5.0, name='dq - resolution', vary=False, bounds=Interval(lb=-np.inf, ub=np.inf), constraint=None), threads=-1, quad_order=17)\n"
     ]
    }
   ],
   "source": [
    "from make_egg import bsla_thesis\n",
    "bt = bsla_thesis()\n",
    "bt.interface_air_protein.setp(vary=True, bounds=(11, 24))\n",
    "from refnx.reflect import ReflectModel\n",
    "model = ReflectModel(bt)\n",
    "print(model)"
   ]
  },
  {
   "cell_type": "code",
   "execution_count": 3,
   "metadata": {},
   "outputs": [
    {
     "ename": "RuntimeError",
     "evalue": "The map-like callable must be of the form f(func, iterable), returning a sequence of numbers the same length as 'iterable'",
     "output_type": "error",
     "traceback": [
      "\u001b[1;31m---------------------------------------------------------------------------\u001b[0m",
      "\u001b[1;31mTypeError\u001b[0m                                 Traceback (most recent call last)",
      "\u001b[1;32mC:\\Users\\John\\Anaconda3\\envs\\refnx\\lib\\site-packages\\scipy\\optimize\\_differentialevolution.py\u001b[0m in \u001b[0;36m_calculate_population_energies\u001b[1;34m(self, population)\u001b[0m\n\u001b[0;32m    788\u001b[0m             calc_energies = list(self._mapwrapper(self.func,\n\u001b[1;32m--> 789\u001b[1;33m                                                   parameters_pop[0:nfevs]))\n\u001b[0m\u001b[0;32m    790\u001b[0m             \u001b[0menergies\u001b[0m\u001b[1;33m[\u001b[0m\u001b[1;36m0\u001b[0m\u001b[1;33m:\u001b[0m\u001b[0mnfevs\u001b[0m\u001b[1;33m]\u001b[0m \u001b[1;33m=\u001b[0m \u001b[0mcalc_energies\u001b[0m\u001b[1;33m\u001b[0m\u001b[1;33m\u001b[0m\u001b[0m\n",
      "\u001b[1;32mC:\\Users\\John\\Anaconda3\\envs\\refnx\\lib\\site-packages\\scipy\\optimize\\_differentialevolution.py\u001b[0m in \u001b[0;36m__call__\u001b[1;34m(self, x)\u001b[0m\n\u001b[0;32m   1027\u001b[0m     \u001b[1;32mdef\u001b[0m \u001b[0m__call__\u001b[0m\u001b[1;33m(\u001b[0m\u001b[0mself\u001b[0m\u001b[1;33m,\u001b[0m \u001b[0mx\u001b[0m\u001b[1;33m)\u001b[0m\u001b[1;33m:\u001b[0m\u001b[1;33m\u001b[0m\u001b[1;33m\u001b[0m\u001b[0m\n\u001b[1;32m-> 1028\u001b[1;33m         \u001b[1;32mreturn\u001b[0m \u001b[0mself\u001b[0m\u001b[1;33m.\u001b[0m\u001b[0mf\u001b[0m\u001b[1;33m(\u001b[0m\u001b[0mx\u001b[0m\u001b[1;33m,\u001b[0m \u001b[1;33m*\u001b[0m\u001b[0mself\u001b[0m\u001b[1;33m.\u001b[0m\u001b[0margs\u001b[0m\u001b[1;33m)\u001b[0m\u001b[1;33m\u001b[0m\u001b[1;33m\u001b[0m\u001b[0m\n\u001b[0m",
      "\u001b[1;32mC:\\Users\\John\\Anaconda3\\envs\\refnx\\lib\\site-packages\\refnx\\analysis\\objective.py\u001b[0m in \u001b[0;36mnll\u001b[1;34m(self, pvals)\u001b[0m\n\u001b[0;32m    564\u001b[0m         \u001b[0mself\u001b[0m\u001b[1;33m.\u001b[0m\u001b[0msetp\u001b[0m\u001b[1;33m(\u001b[0m\u001b[0mpvals\u001b[0m\u001b[1;33m)\u001b[0m\u001b[1;33m\u001b[0m\u001b[1;33m\u001b[0m\u001b[0m\n\u001b[1;32m--> 565\u001b[1;33m         \u001b[1;32mreturn\u001b[0m \u001b[1;33m-\u001b[0m\u001b[0mself\u001b[0m\u001b[1;33m.\u001b[0m\u001b[0mlogl\u001b[0m\u001b[1;33m(\u001b[0m\u001b[1;33m)\u001b[0m\u001b[1;33m\u001b[0m\u001b[1;33m\u001b[0m\u001b[0m\n\u001b[0m\u001b[0;32m    566\u001b[0m \u001b[1;33m\u001b[0m\u001b[0m\n",
      "\u001b[1;32mC:\\Users\\John\\Anaconda3\\envs\\refnx\\lib\\site-packages\\refnx\\analysis\\objective.py\u001b[0m in \u001b[0;36mlogl\u001b[1;34m(self, pvals)\u001b[0m\n\u001b[0;32m    524\u001b[0m \u001b[1;33m\u001b[0m\u001b[0m\n\u001b[1;32m--> 525\u001b[1;33m         \u001b[0mmodel\u001b[0m \u001b[1;33m=\u001b[0m \u001b[0mself\u001b[0m\u001b[1;33m.\u001b[0m\u001b[0mmodel\u001b[0m\u001b[1;33m(\u001b[0m\u001b[0mself\u001b[0m\u001b[1;33m.\u001b[0m\u001b[0mdata\u001b[0m\u001b[1;33m.\u001b[0m\u001b[0mx\u001b[0m\u001b[1;33m,\u001b[0m \u001b[0mx_err\u001b[0m\u001b[1;33m=\u001b[0m\u001b[0mself\u001b[0m\u001b[1;33m.\u001b[0m\u001b[0mdata\u001b[0m\u001b[1;33m.\u001b[0m\u001b[0mx_err\u001b[0m\u001b[1;33m)\u001b[0m\u001b[1;33m\u001b[0m\u001b[1;33m\u001b[0m\u001b[0m\n\u001b[0m\u001b[0;32m    526\u001b[0m \u001b[1;33m\u001b[0m\u001b[0m\n",
      "\u001b[1;32mC:\\Users\\John\\Anaconda3\\envs\\refnx\\lib\\site-packages\\refnx\\reflect\\reflect_model.py\u001b[0m in \u001b[0;36m__call__\u001b[1;34m(self, x, p, x_err)\u001b[0m\n\u001b[0;32m    128\u001b[0m         \"\"\"\n\u001b[1;32m--> 129\u001b[1;33m         \u001b[1;32mreturn\u001b[0m \u001b[0mself\u001b[0m\u001b[1;33m.\u001b[0m\u001b[0mmodel\u001b[0m\u001b[1;33m(\u001b[0m\u001b[0mx\u001b[0m\u001b[1;33m,\u001b[0m \u001b[0mp\u001b[0m\u001b[1;33m=\u001b[0m\u001b[0mp\u001b[0m\u001b[1;33m,\u001b[0m \u001b[0mx_err\u001b[0m\u001b[1;33m=\u001b[0m\u001b[0mx_err\u001b[0m\u001b[1;33m)\u001b[0m\u001b[1;33m\u001b[0m\u001b[1;33m\u001b[0m\u001b[0m\n\u001b[0m\u001b[0;32m    130\u001b[0m \u001b[1;33m\u001b[0m\u001b[0m\n",
      "\u001b[1;32mC:\\Users\\John\\Anaconda3\\envs\\refnx\\lib\\site-packages\\refnx\\reflect\\reflect_model.py\u001b[0m in \u001b[0;36mmodel\u001b[1;34m(self, x, p, x_err)\u001b[0m\n\u001b[0;32m    207\u001b[0m \u001b[1;33m\u001b[0m\u001b[0m\n\u001b[1;32m--> 208\u001b[1;33m         return reflectivity(x, self.structure.slabs()[..., :4],\n\u001b[0m\u001b[0;32m    209\u001b[0m                             \u001b[0mscale\u001b[0m\u001b[1;33m=\u001b[0m\u001b[0mself\u001b[0m\u001b[1;33m.\u001b[0m\u001b[0mscale\u001b[0m\u001b[1;33m.\u001b[0m\u001b[0mvalue\u001b[0m\u001b[1;33m,\u001b[0m\u001b[1;33m\u001b[0m\u001b[1;33m\u001b[0m\u001b[0m\n",
      "\u001b[1;32m~\\summer2019\\make_egg.py\u001b[0m in \u001b[0;36mslabs\u001b[1;34m(self, structure)\u001b[0m\n\u001b[0;32m    134\u001b[0m         \u001b[0mthickness_slabs\u001b[0m \u001b[1;33m=\u001b[0m \u001b[0mlength\u001b[0m\u001b[1;33m/\u001b[0m\u001b[0mno_slabs\u001b[0m\u001b[1;33m\u001b[0m\u001b[1;33m\u001b[0m\u001b[0m\n\u001b[1;32m--> 135\u001b[1;33m         \u001b[0mslabs\u001b[0m \u001b[1;33m=\u001b[0m \u001b[0mnp\u001b[0m\u001b[1;33m.\u001b[0m\u001b[0mzeros\u001b[0m\u001b[1;33m(\u001b[0m\u001b[1;33m(\u001b[0m\u001b[0mint\u001b[0m\u001b[1;33m(\u001b[0m\u001b[0mno_slabs\u001b[0m\u001b[1;33m)\u001b[0m\u001b[1;33m,\u001b[0m \u001b[1;36m5\u001b[0m\u001b[1;33m)\u001b[0m\u001b[1;33m)\u001b[0m\u001b[1;33m\u001b[0m\u001b[1;33m\u001b[0m\u001b[0m\n\u001b[0m\u001b[0;32m    136\u001b[0m         \u001b[0mslabs\u001b[0m\u001b[1;33m[\u001b[0m\u001b[1;33m:\u001b[0m\u001b[1;33m,\u001b[0m\u001b[1;36m0\u001b[0m\u001b[1;33m]\u001b[0m \u001b[1;33m=\u001b[0m \u001b[0mthisckness_slabs\u001b[0m\u001b[1;33m\u001b[0m\u001b[1;33m\u001b[0m\u001b[0m\n",
      "\u001b[1;31mTypeError\u001b[0m: int() argument must be a string, a bytes-like object or a number, not '_BinaryOp'",
      "\nDuring handling of the above exception, another exception occurred:\n",
      "\u001b[1;31mRuntimeError\u001b[0m                              Traceback (most recent call last)",
      "\u001b[1;32m<ipython-input-3-48a598ff1019>\u001b[0m in \u001b[0;36m<module>\u001b[1;34m\u001b[0m\n\u001b[0;32m      2\u001b[0m \u001b[0mobj\u001b[0m \u001b[1;33m=\u001b[0m \u001b[0mObjective\u001b[0m\u001b[1;33m(\u001b[0m\u001b[0mmodel\u001b[0m\u001b[1;33m,\u001b[0m\u001b[0mdata\u001b[0m\u001b[1;33m)\u001b[0m\u001b[1;33m\u001b[0m\u001b[1;33m\u001b[0m\u001b[0m\n\u001b[0;32m      3\u001b[0m \u001b[0mfitter\u001b[0m \u001b[1;33m=\u001b[0m \u001b[0mCurveFitter\u001b[0m\u001b[1;33m(\u001b[0m\u001b[0mobj\u001b[0m\u001b[1;33m)\u001b[0m\u001b[1;33m\u001b[0m\u001b[1;33m\u001b[0m\u001b[0m\n\u001b[1;32m----> 4\u001b[1;33m \u001b[0mfitter\u001b[0m\u001b[1;33m.\u001b[0m\u001b[0mfit\u001b[0m\u001b[1;33m(\u001b[0m\u001b[1;34m'differential_evolution'\u001b[0m\u001b[1;33m)\u001b[0m\u001b[1;33m;\u001b[0m\u001b[1;33m\u001b[0m\u001b[1;33m\u001b[0m\u001b[0m\n\u001b[0m\u001b[0;32m      5\u001b[0m \u001b[1;32mimport\u001b[0m \u001b[0mmatplotlib\u001b[0m\u001b[1;33m.\u001b[0m\u001b[0mpyplot\u001b[0m \u001b[1;32mas\u001b[0m \u001b[0mplt\u001b[0m\u001b[1;33m\u001b[0m\u001b[1;33m\u001b[0m\u001b[0m\n\u001b[0;32m      6\u001b[0m \u001b[0mobj\u001b[0m\u001b[1;33m.\u001b[0m\u001b[0mplot\u001b[0m\u001b[1;33m(\u001b[0m\u001b[1;33m)\u001b[0m\u001b[1;33m\u001b[0m\u001b[1;33m\u001b[0m\u001b[0m\n",
      "\u001b[1;32mC:\\Users\\John\\Anaconda3\\envs\\refnx\\lib\\site-packages\\refnx\\analysis\\curvefitter.py\u001b[0m in \u001b[0;36mfit\u001b[1;34m(self, method, target, **kws)\u001b[0m\n\u001b[0;32m    608\u001b[0m         \u001b[1;32melif\u001b[0m \u001b[0mmethod\u001b[0m \u001b[1;32min\u001b[0m \u001b[1;33m[\u001b[0m\u001b[1;34m'differential_evolution'\u001b[0m\u001b[1;33m,\u001b[0m \u001b[1;34m'dual_annealing'\u001b[0m\u001b[1;33m,\u001b[0m \u001b[1;34m'shgo'\u001b[0m\u001b[1;33m]\u001b[0m\u001b[1;33m:\u001b[0m\u001b[1;33m\u001b[0m\u001b[1;33m\u001b[0m\u001b[0m\n\u001b[0;32m    609\u001b[0m             \u001b[0mmini\u001b[0m \u001b[1;33m=\u001b[0m \u001b[0mgetattr\u001b[0m\u001b[1;33m(\u001b[0m\u001b[0msciopt\u001b[0m\u001b[1;33m,\u001b[0m \u001b[0mmethod\u001b[0m\u001b[1;33m)\u001b[0m\u001b[1;33m\u001b[0m\u001b[1;33m\u001b[0m\u001b[0m\n\u001b[1;32m--> 610\u001b[1;33m             \u001b[0mres\u001b[0m \u001b[1;33m=\u001b[0m \u001b[0mmini\u001b[0m\u001b[1;33m(\u001b[0m\u001b[0mcost\u001b[0m\u001b[1;33m,\u001b[0m \u001b[1;33m**\u001b[0m\u001b[0m_min_kws\u001b[0m\u001b[1;33m)\u001b[0m\u001b[1;33m\u001b[0m\u001b[1;33m\u001b[0m\u001b[0m\n\u001b[0m\u001b[0;32m    611\u001b[0m         \u001b[1;32melse\u001b[0m\u001b[1;33m:\u001b[0m\u001b[1;33m\u001b[0m\u001b[1;33m\u001b[0m\u001b[0m\n\u001b[0;32m    612\u001b[0m             \u001b[1;31m# otherwise stick it to minimizer. Default being L-BFGS-B\u001b[0m\u001b[1;33m\u001b[0m\u001b[1;33m\u001b[0m\u001b[1;33m\u001b[0m\u001b[0m\n",
      "\u001b[1;32mC:\\Users\\John\\Anaconda3\\envs\\refnx\\lib\\site-packages\\scipy\\optimize\\_differentialevolution.py\u001b[0m in \u001b[0;36mdifferential_evolution\u001b[1;34m(func, bounds, args, strategy, maxiter, popsize, tol, mutation, recombination, seed, callback, disp, polish, init, atol, updating, workers)\u001b[0m\n\u001b[0;32m    274\u001b[0m                                      \u001b[0mupdating\u001b[0m\u001b[1;33m=\u001b[0m\u001b[0mupdating\u001b[0m\u001b[1;33m,\u001b[0m\u001b[1;33m\u001b[0m\u001b[1;33m\u001b[0m\u001b[0m\n\u001b[0;32m    275\u001b[0m                                      workers=workers) as solver:\n\u001b[1;32m--> 276\u001b[1;33m         \u001b[0mret\u001b[0m \u001b[1;33m=\u001b[0m \u001b[0msolver\u001b[0m\u001b[1;33m.\u001b[0m\u001b[0msolve\u001b[0m\u001b[1;33m(\u001b[0m\u001b[1;33m)\u001b[0m\u001b[1;33m\u001b[0m\u001b[1;33m\u001b[0m\u001b[0m\n\u001b[0m\u001b[0;32m    277\u001b[0m \u001b[1;33m\u001b[0m\u001b[0m\n\u001b[0;32m    278\u001b[0m     \u001b[1;32mreturn\u001b[0m \u001b[0mret\u001b[0m\u001b[1;33m\u001b[0m\u001b[1;33m\u001b[0m\u001b[0m\n",
      "\u001b[1;32mC:\\Users\\John\\Anaconda3\\envs\\refnx\\lib\\site-packages\\scipy\\optimize\\_differentialevolution.py\u001b[0m in \u001b[0;36msolve\u001b[1;34m(self)\u001b[0m\n\u001b[0;32m    686\u001b[0m         \u001b[1;32mif\u001b[0m \u001b[0mnp\u001b[0m\u001b[1;33m.\u001b[0m\u001b[0mall\u001b[0m\u001b[1;33m(\u001b[0m\u001b[0mnp\u001b[0m\u001b[1;33m.\u001b[0m\u001b[0misinf\u001b[0m\u001b[1;33m(\u001b[0m\u001b[0mself\u001b[0m\u001b[1;33m.\u001b[0m\u001b[0mpopulation_energies\u001b[0m\u001b[1;33m)\u001b[0m\u001b[1;33m)\u001b[0m\u001b[1;33m:\u001b[0m\u001b[1;33m\u001b[0m\u001b[1;33m\u001b[0m\u001b[0m\n\u001b[0;32m    687\u001b[0m             self.population_energies[:] = self._calculate_population_energies(\n\u001b[1;32m--> 688\u001b[1;33m                 self.population)\n\u001b[0m\u001b[0;32m    689\u001b[0m             \u001b[0mself\u001b[0m\u001b[1;33m.\u001b[0m\u001b[0m_promote_lowest_energy\u001b[0m\u001b[1;33m(\u001b[0m\u001b[1;33m)\u001b[0m\u001b[1;33m\u001b[0m\u001b[1;33m\u001b[0m\u001b[0m\n\u001b[0;32m    690\u001b[0m \u001b[1;33m\u001b[0m\u001b[0m\n",
      "\u001b[1;32mC:\\Users\\John\\Anaconda3\\envs\\refnx\\lib\\site-packages\\scipy\\optimize\\_differentialevolution.py\u001b[0m in \u001b[0;36m_calculate_population_energies\u001b[1;34m(self, population)\u001b[0m\n\u001b[0;32m    792\u001b[0m             \u001b[1;31m# wrong number of arguments for _mapwrapper\u001b[0m\u001b[1;33m\u001b[0m\u001b[1;33m\u001b[0m\u001b[1;33m\u001b[0m\u001b[0m\n\u001b[0;32m    793\u001b[0m             \u001b[1;31m# or wrong length returned from the mapper\u001b[0m\u001b[1;33m\u001b[0m\u001b[1;33m\u001b[0m\u001b[1;33m\u001b[0m\u001b[0m\n\u001b[1;32m--> 794\u001b[1;33m             raise RuntimeError(\"The map-like callable must be of the\"\n\u001b[0m\u001b[0;32m    795\u001b[0m                                \u001b[1;34m\" form f(func, iterable), returning a sequence\"\u001b[0m\u001b[1;33m\u001b[0m\u001b[1;33m\u001b[0m\u001b[0m\n\u001b[0;32m    796\u001b[0m                                \" of numbers the same length as 'iterable'\")\n",
      "\u001b[1;31mRuntimeError\u001b[0m: The map-like callable must be of the form f(func, iterable), returning a sequence of numbers the same length as 'iterable'"
     ]
    }
   ],
   "source": [
    "from refnx.analysis import Transform, CurveFitter, Objective\n",
    "obj = Objective(model,data)\n",
    "fitter = CurveFitter(obj)\n",
    "fitter.fit('differential_evolution');\n",
    "import matplotlib.pyplot as plt\n",
    "obj.plot()\n",
    "plt.legend()\n",
    "plt.xlabel('Q')\n",
    "plt.ylabel('logR');"
   ]
  },
  {
   "cell_type": "code",
   "execution_count": null,
   "metadata": {},
   "outputs": [],
   "source": []
  }
 ],
 "metadata": {
  "kernelspec": {
   "display_name": "Python 3",
   "language": "python",
   "name": "python3"
  },
  "language_info": {
   "codemirror_mode": {
    "name": "ipython",
    "version": 3
   },
   "file_extension": ".py",
   "mimetype": "text/x-python",
   "name": "python",
   "nbconvert_exporter": "python",
   "pygments_lexer": "ipython3",
   "version": "3.7.3"
  }
 },
 "nbformat": 4,
 "nbformat_minor": 2
}
