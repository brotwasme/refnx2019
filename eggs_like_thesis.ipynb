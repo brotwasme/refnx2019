{
 "cells": [
  {
   "cell_type": "code",
   "execution_count": 1,
   "metadata": {},
   "outputs": [
    {
     "name": "stdout",
     "output_type": "stream",
     "text": [
      "csv\n",
      "cvs-collecting\n"
     ]
    }
   ],
   "source": [
    "from refnx.dataset import Data1D\n",
    "from refnx.dataset import ReflectDataset\n",
    "import refnx\n",
    "import data_in\n",
    "data = data_in.data_in('d2o/29553_54.dat')\n",
    "#print(data)\n",
    "# dataset = data # ...\n",
    "data = Data1D(data) \n",
    "#print(data)"
   ]
  },
  {
   "cell_type": "code",
   "execution_count": 2,
   "metadata": {},
   "outputs": [
    {
     "name": "stdout",
     "output_type": "stream",
     "text": [
      "ReflectModel(<make_egg.bsla_thesis object at 0x000002094E2081D0>, name='', scale=Parameter(value=1.0, name='scale', vary=False, bounds=Interval(lb=-np.inf, ub=np.inf), constraint=None), bkg=Parameter(value=1e-07, name='bkg', vary=False, bounds=Interval(lb=-np.inf, ub=np.inf), constraint=None), dq=Parameter(value=5.0, name='dq - resolution', vary=False, bounds=Interval(lb=-np.inf, ub=np.inf), constraint=None), threads=-1, quad_order=17)\n"
     ]
    }
   ],
   "source": [
    "from make_egg import bsla_thesis\n",
    "bt = bsla_thesis()\n",
    "# need all setp to varry\n",
    "bt.interface_protein_solvent.setp(vary=True, bounds=(11, 40))\n",
    "bt.protein_length.setp(vary=True, bounds=(25, 55))\n",
    "bt.number_of_water_molecules.setp(vary=True, bounds=(1, 10000))\n",
    "bt.interface_width_air_solvent.setp(vary=True, bounds=(0, 30))\n",
    "bt.interface_width_protein_solvent.setp(vary=True, bounds=(0, 5))\n",
    "bt.sld_of_protein.setp(vary=True, bounds=(1.92*(10**(-6)), 6.21*(10**(-6))))\n",
    "bt.d2o_to_h2o_ratio.setp(vary=True, bounds=(0, 1))\n",
    "from refnx.reflect import ReflectModel\n",
    "model = ReflectModel(bt)\n",
    "print(model)"
   ]
  },
  {
   "cell_type": "code",
   "execution_count": 3,
   "metadata": {
    "scrolled": false
   },
   "outputs": [
    {
     "ename": "LinAlgError",
     "evalue": "The following Parameters have no effect on Objective.residuals, please consider fixing them.\n[Parameter(value=0.9606123629881391, name='bsla - interface_width_protein_solvent', vary=True, bounds=Interval(lb=0, ub=5), constraint=None), Parameter(value=0.015083928441805283, name='bsla - d2o_h2o_ratio', vary=True, bounds=Interval(lb=0, ub=1), constraint=None)]",
     "output_type": "error",
     "traceback": [
      "\u001b[1;31m---------------------------------------------------------------------------\u001b[0m",
      "\u001b[1;31mLinAlgError\u001b[0m                               Traceback (most recent call last)",
      "\u001b[1;32m<ipython-input-3-b41ca231850f>\u001b[0m in \u001b[0;36m<module>\u001b[1;34m\u001b[0m\n\u001b[0;32m      2\u001b[0m \u001b[0mobj\u001b[0m \u001b[1;33m=\u001b[0m \u001b[0mObjective\u001b[0m\u001b[1;33m(\u001b[0m\u001b[0mmodel\u001b[0m\u001b[1;33m,\u001b[0m\u001b[0mdata\u001b[0m\u001b[1;33m)\u001b[0m\u001b[1;33m\u001b[0m\u001b[1;33m\u001b[0m\u001b[0m\n\u001b[0;32m      3\u001b[0m \u001b[0mfitter\u001b[0m \u001b[1;33m=\u001b[0m \u001b[0mCurveFitter\u001b[0m\u001b[1;33m(\u001b[0m\u001b[0mobj\u001b[0m\u001b[1;33m)\u001b[0m\u001b[1;33m\u001b[0m\u001b[1;33m\u001b[0m\u001b[0m\n\u001b[1;32m----> 4\u001b[1;33m \u001b[0mfitter\u001b[0m\u001b[1;33m.\u001b[0m\u001b[0mfit\u001b[0m\u001b[1;33m(\u001b[0m\u001b[1;34m'differential_evolution'\u001b[0m\u001b[1;33m)\u001b[0m\u001b[1;33m;\u001b[0m\u001b[1;33m\u001b[0m\u001b[1;33m\u001b[0m\u001b[0m\n\u001b[0m",
      "\u001b[1;32mC:\\Users\\John\\Anaconda3\\envs\\refnx\\lib\\site-packages\\refnx\\analysis\\curvefitter.py\u001b[0m in \u001b[0;36mfit\u001b[1;34m(self, method, target, **kws)\u001b[0m\n\u001b[0;32m    620\u001b[0m \u001b[1;33m\u001b[0m\u001b[0m\n\u001b[0;32m    621\u001b[0m             \u001b[1;31m# Covariance matrix estimation\u001b[0m\u001b[1;33m\u001b[0m\u001b[1;33m\u001b[0m\u001b[1;33m\u001b[0m\u001b[0m\n\u001b[1;32m--> 622\u001b[1;33m             \u001b[0mcovar\u001b[0m \u001b[1;33m=\u001b[0m \u001b[0mself\u001b[0m\u001b[1;33m.\u001b[0m\u001b[0mobjective\u001b[0m\u001b[1;33m.\u001b[0m\u001b[0mcovar\u001b[0m\u001b[1;33m(\u001b[0m\u001b[1;33m)\u001b[0m\u001b[1;33m\u001b[0m\u001b[1;33m\u001b[0m\u001b[0m\n\u001b[0m\u001b[0;32m    623\u001b[0m             \u001b[0merrors\u001b[0m \u001b[1;33m=\u001b[0m \u001b[0mnp\u001b[0m\u001b[1;33m.\u001b[0m\u001b[0msqrt\u001b[0m\u001b[1;33m(\u001b[0m\u001b[0mnp\u001b[0m\u001b[1;33m.\u001b[0m\u001b[0mdiag\u001b[0m\u001b[1;33m(\u001b[0m\u001b[0mcovar\u001b[0m\u001b[1;33m)\u001b[0m\u001b[1;33m)\u001b[0m\u001b[1;33m\u001b[0m\u001b[1;33m\u001b[0m\u001b[0m\n\u001b[0;32m    624\u001b[0m             \u001b[0mres\u001b[0m\u001b[1;33m[\u001b[0m\u001b[1;34m'covar'\u001b[0m\u001b[1;33m]\u001b[0m \u001b[1;33m=\u001b[0m \u001b[0mcovar\u001b[0m\u001b[1;33m\u001b[0m\u001b[1;33m\u001b[0m\u001b[0m\n",
      "\u001b[1;32mC:\\Users\\John\\Anaconda3\\envs\\refnx\\lib\\site-packages\\refnx\\analysis\\objective.py\u001b[0m in \u001b[0;36mcovar\u001b[1;34m(self)\u001b[0m\n\u001b[0;32m    658\u001b[0m             raise LinAlgError(\"The following Parameters have no effect on\"\n\u001b[0;32m    659\u001b[0m                               \u001b[1;34m\" Objective.residuals, please consider fixing\"\u001b[0m\u001b[1;33m\u001b[0m\u001b[1;33m\u001b[0m\u001b[0m\n\u001b[1;32m--> 660\u001b[1;33m                               \" them.\\n\" + repr(singular_params))\n\u001b[0m\u001b[0;32m    661\u001b[0m \u001b[1;33m\u001b[0m\u001b[0m\n\u001b[0;32m    662\u001b[0m         \u001b[0mscale\u001b[0m \u001b[1;33m=\u001b[0m \u001b[1;36m1.\u001b[0m\u001b[1;33m\u001b[0m\u001b[1;33m\u001b[0m\u001b[0m\n",
      "\u001b[1;31mLinAlgError\u001b[0m: The following Parameters have no effect on Objective.residuals, please consider fixing them.\n[Parameter(value=0.9606123629881391, name='bsla - interface_width_protein_solvent', vary=True, bounds=Interval(lb=0, ub=5), constraint=None), Parameter(value=0.015083928441805283, name='bsla - d2o_h2o_ratio', vary=True, bounds=Interval(lb=0, ub=1), constraint=None)]"
     ]
    }
   ],
   "source": [
    "from refnx.analysis import Transform, CurveFitter, Objective\n",
    "obj = Objective(model,data)\n",
    "fitter = CurveFitter(obj)\n",
    "fitter.fit('differential_evolution');"
   ]
  },
  {
   "cell_type": "code",
   "execution_count": 4,
   "metadata": {},
   "outputs": [
    {
     "name": "stderr",
     "output_type": "stream",
     "text": [
      "No handles with labels found to put in legend.\n"
     ]
    },
    {
     "data": {
      "image/png": "[encoded data removed]",
      "text/plain": [
       "<Figure size 432x288 with 1 Axes>"
      ]
     },
     "metadata": {
      "needs_background": "light"
     },
     "output_type": "display_data"
    }
   ],
   "source": [
    "import matplotlib.pyplot as plt\n",
    "obj.plot()\n",
    "plt.legend()\n",
    "plt.xlabel('Q')\n",
    "plt.ylabel('logR');"
   ]
  },
  {
   "cell_type": "code",
   "execution_count": 6,
   "metadata": {},
   "outputs": [
    {
     "name": "stdout",
     "output_type": "stream",
     "text": [
      "________________________________________________________________________________\n",
      "Parameters:     'bsla'     \n",
      "<Parameter:'bsla - interface_air_protein', value=0 (fixed)  , bounds=[-inf, inf]>\n",
      "<Parameter:'bsla - interface_protein_solvent', value=18.7871          , bounds=[11, 40]>\n",
      "<Parameter:'bsla - protein_length', value=35.6713          , bounds=[25, 55]>\n",
      "<Parameter:'bsla - number_of_water_molecules', value=4048.74          , bounds=[1, 10000]>\n",
      "<Parameter:'bsla - interface_width_air_solvent', value=4.46933          , bounds=[0, 30]>\n",
      "<Parameter:'bsla - interface_width_protein_solvent', value=0.960612          , bounds=[0, 5]>\n",
      "<Parameter:'bsla - sld_of_protein', value=5.65687e-06          , bounds=[1.92e-06, 6.21e-06]>\n",
      "<Parameter:'bsla - d2o_h2o_ratio', value=0.0150839          , bounds=[0, 1]>\n"
     ]
    }
   ],
   "source": [
    "print(bt.parameters)"
   ]
  },
  {
   "cell_type": "code",
   "execution_count": null,
   "metadata": {},
   "outputs": [],
   "source": []
  }
 ],
 "metadata": {
  "kernelspec": {
   "display_name": "Python 3",
   "language": "python",
   "name": "python3"
  },
  "language_info": {
   "codemirror_mode": {
    "name": "ipython",
    "version": 3
   },
   "file_extension": ".py",
   "mimetype": "text/x-python",
   "name": "python",
   "nbconvert_exporter": "python",
   "pygments_lexer": "ipython3",
   "version": "3.7.3"
  }
 },
 "nbformat": 4,
 "nbformat_minor": 2
}
